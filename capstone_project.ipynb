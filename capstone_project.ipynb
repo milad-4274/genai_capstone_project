{
 "cells": [
  {
   "cell_type": "code",
   "execution_count": 21,
   "metadata": {},
   "outputs": [],
   "source": [
    "import os\n",
    "from dotenv.main import load_dotenv\n",
    "from IPython.display import Image, display\n",
    "from pprint import pprint\n",
    "\n",
    "\n",
    "from typing import Annotated\n",
    "from typing_extensions import TypedDict\n",
    "from typing import Literal\n",
    "\n",
    "from langgraph.graph.message import add_messages\n",
    "from langchain_core.tools import tool\n",
    "from langchain_core.messages.ai import AIMessage\n",
    "from langgraph.prebuilt import ToolNode\n",
    "\n",
    "\n",
    "\n",
    "from langgraph.graph import StateGraph, START, END\n",
    "from langchain_google_genai import ChatGoogleGenerativeAI"
   ]
  },
  {
   "cell_type": "code",
   "execution_count": 5,
   "metadata": {},
   "outputs": [
    {
     "data": {
      "text/plain": [
       "True"
      ]
     },
     "execution_count": 5,
     "metadata": {},
     "output_type": "execute_result"
    }
   ],
   "source": [
    "load_dotenv()"
   ]
  },
  {
   "cell_type": "code",
   "execution_count": 6,
   "metadata": {},
   "outputs": [],
   "source": [
    "GOOGLE_API_KEY = os.getenv(\"GOOGLE_API_KEY\")"
   ]
  },
  {
   "cell_type": "code",
   "execution_count": 7,
   "metadata": {},
   "outputs": [],
   "source": [
    "class OrderState(TypedDict):\n",
    "    \"\"\"State representing the customer's order conversation.\"\"\"\n",
    "\n",
    "    # The chat conversation. This preserves the conversation history\n",
    "    # between nodes. The `add_messages` annotation indicates to LangGraph\n",
    "    # that state is updated by appending returned messages, not replacing\n",
    "    # them.\n",
    "    messages: Annotated[list, add_messages]\n",
    "\n",
    "    # The customer's in-progress order.\n",
    "    order: list[str]\n",
    "\n",
    "    # Flag indicating that the order is placed and completed.\n",
    "    finished: bool\n"
   ]
  },
  {
   "cell_type": "code",
   "execution_count": 8,
   "metadata": {},
   "outputs": [],
   "source": [
    "TRIPADVISOR_SYSINT = (\n",
    "    \"system\",  # 'system' indicates the message is a system instruction.\n",
    "    \"You are a helpful and friendly Trip Advisor bot. A human will ask you for recommendations \"\n",
    "    \"and information about transportation to use, places to visit, activities to do, restaurants to eat at, and \"\n",
    "    \"accommodations to stay in. Your primary goal is to provide relevant and accurate information \"\n",
    "    \"based on the user's requests, helping them plan their trip effectively. \"\n",
    "    \"You can ask clarifying questions to better understand their preferences and needs. \"\n",
    "    \"Avoid engaging in off-topic discussions and focus solely on trip-related inquiries. \"\n",
    "    \"\\n\\n\"\n",
    "    \"You have access to several tools to assist the user:\"\n",
    "    \"\\n\"\n",
    "    \"- `search_places`: Use this tool to find information about specific places, attractions, \"\n",
    "    \"restaurants, or accommodations. The input should be a detailed query including location \"\n",
    "    \"and keywords describing what the user is looking for (e.g., 'best beaches in Barcelona', \"\n",
    "    \"'romantic restaurants near Sagrada Familia', 'budget-friendly hotels in the Gothic Quarter').\"\n",
    "    \"\\n\"\n",
    "    \"- `get_place_details`: Use this tool to retrieve more detailed information about a specific \"\n",
    "    \"place identified by its unique ID (which you might have obtained from `search_places`). \"\n",
    "    \"The input should be the place ID.\"\n",
    "    \"\\n\"\n",
    "    \"- `get_directions`: Use this tool to provide directions between two locations. The input \"\n",
    "    \"should include the starting point and the destination.\"\n",
    "    \"\\n\"\n",
    "    \"- `translate_text`: Use this tool to translate text between languages. The input should \"\n",
    "    \"include the text to translate and the target language.\"\n",
    "    \"\\n\\n\"\n",
    "    \"When responding to the user, synthesize information from these tools into a coherent and \"\n",
    "    \"helpful answer. If a user asks for recommendations, use `search_places` with relevant keywords \"\n",
    "    \"and present a few options. You can then use `get_place_details` if the user expresses interest \"\n",
    "    \"in a specific option. If the user asks for how to get somewhere, use `get_directions`. If there's \"\n",
    "    \"a language barrier, offer to use `translate_text`.\"\n",
    "    \"\\n\\n\"\n",
    "    \"Remember to be polite and helpful throughout the interaction. If you cannot find information \"\n",
    "    \"related to the user's request, acknowledge this and suggest alternative ways you might be able to assist.\"\n",
    "    \"\\n\\n\"\n",
    "    \"If any of the tools are unavailable, you can break the fourth wall and tell the user that \"\n",
    "    \"they have not implemented them yet and should keep reading to do so.\",\n",
    ")"
   ]
  },
  {
   "cell_type": "code",
   "execution_count": 9,
   "metadata": {},
   "outputs": [],
   "source": [
    "WELCOME_MSG = \"Welcome to the TripoBot. Type `q` to quit. What is your dream trip? how much is your budget? what activity do you like to do? Do you like blind trip program?\""
   ]
  },
  {
   "cell_type": "code",
   "execution_count": 10,
   "metadata": {},
   "outputs": [],
   "source": [
    "llm = ChatGoogleGenerativeAI(model=\"gemini-2.0-flash\")\n",
    "\n",
    "\n",
    "def chatbot(state: OrderState) -> OrderState:\n",
    "    \"\"\"The chatbot itself. A simple wrapper around the model's own chat interface.\"\"\"\n",
    "    message_history = [TRIPADVISOR_SYSINT] + state[\"messages\"]\n",
    "    return {\"messages\": [llm.invoke(message_history)]}\n"
   ]
  },
  {
   "cell_type": "code",
   "execution_count": 11,
   "metadata": {},
   "outputs": [],
   "source": [
    "# Set up the initial graph based on our state definition.\n",
    "graph_builder = StateGraph(OrderState)\n",
    "\n",
    "# Add the chatbot function to the app graph as a node called \"chatbot\".\n",
    "graph_builder.add_node(\"chatbot\", chatbot)\n",
    "\n",
    "# Define the chatbot node as the app entrypoint.\n",
    "graph_builder.add_edge(START, \"chatbot\")\n",
    "\n",
    "chat_graph = graph_builder.compile()"
   ]
  },
  {
   "cell_type": "code",
   "execution_count": 12,
   "metadata": {},
   "outputs": [
    {
     "data": {
      "image/png": "[encoded data removed]",
      "text/plain": [
       "<IPython.core.display.Image object>"
      ]
     },
     "execution_count": 12,
     "metadata": {},
     "output_type": "execute_result"
    }
   ],
   "source": [
    "Image(chat_graph.get_graph().draw_mermaid_png())"
   ]
  },
  {
   "cell_type": "code",
   "execution_count": 13,
   "metadata": {},
   "outputs": [
    {
     "name": "stdout",
     "output_type": "stream",
     "text": [
      "{'messages': [HumanMessage(content='Hello, what can you do?', additional_kwargs={}, response_metadata={}, id='1acea326-f645-4f63-8789-690a308f630c'),\n",
      "              AIMessage(content=\"Hello! I can help you plan your trip. I can provide recommendations and information about transportation, places to visit, activities, restaurants, and accommodations.\\n\\nTo give you the best recommendations, I need a little more information. Where are you planning to travel? What are you interested in seeing or doing? What's your budget like?\", additional_kwargs={}, response_metadata={'prompt_feedback': {'block_reason': 0, 'safety_ratings': []}, 'finish_reason': 'STOP', 'model_name': 'gemini-2.0-flash', 'safety_ratings': []}, id='run-19673395-e205-419d-92d6-c65772350481-0', usage_metadata={'input_tokens': 455, 'output_tokens': 69, 'total_tokens': 524, 'input_token_details': {'cache_read': 0}})]}\n",
      "__________\n",
      "HumanMessage: Hello, what can you do?\n",
      "AIMessage: Hello! I can help you plan your trip. I can provide recommendations and information about transportation, places to visit, activities, restaurants, and accommodations.\n",
      "\n",
      "To give you the best recommendations, I need a little more information. Where are you planning to travel? What are you interested in seeing or doing? What's your budget like?\n"
     ]
    }
   ],
   "source": [
    "\n",
    "user_msg = \"Hello, what can you do?\"\n",
    "state = chat_graph.invoke({\"messages\": [user_msg]})\n",
    "\n",
    "# The state object contains lots of information. Uncomment the pprint lines to see it all.\n",
    "pprint(state)\n",
    "print(\"_\"*10)\n",
    "\n",
    "# Note that the final state now has 2 messages. Our HumanMessage, and an additional AIMessage.\n",
    "for msg in state[\"messages\"]:\n",
    "    print(f\"{type(msg).__name__}: {msg.content}\")"
   ]
  },
  {
   "cell_type": "code",
   "execution_count": 14,
   "metadata": {},
   "outputs": [
    {
     "name": "stdout",
     "output_type": "stream",
     "text": [
      "HumanMessage: Hello, what can you do?\n",
      "AIMessage: Hello! I can help you plan your trip. I can provide recommendations and information about transportation, places to visit, activities, restaurants, and accommodations.\n",
      "\n",
      "To give you the best recommendations, I need a little more information. Where are you planning to travel? What are you interested in seeing or doing? What's your budget like?\n",
      "HumanMessage: Oh great, What is the best hotels in Paris?\n",
      "AIMessage: Okay! I can help you find some great hotels in Paris. To give you the best recommendations, could you tell me a little more about what you're looking for? For example:\n",
      "\n",
      "*   **What's your budget?** (e.g., budget-friendly, mid-range, luxury)\n",
      "*   **What kind of location are you looking for?** (e.g., near the Eiffel Tower, in a quiet neighborhood, close to public transportation)\n",
      "*   **What style of hotel do you prefer?** (e.g., modern, boutique, historic)\n",
      "*   **Are there any specific amenities you need?** (e.g., pool, free breakfast, family-friendly)\n",
      "\n",
      "In the meantime, I can use my `search_places` tool with the query \"best hotels in Paris\" to give you a few general options to start with.\n"
     ]
    }
   ],
   "source": [
    "user_msg = \"Oh great, What is the best hotels in Paris?\"\n",
    "\n",
    "state[\"messages\"].append(user_msg)\n",
    "state = chat_graph.invoke(state)\n",
    "\n",
    "# pprint(state)\n",
    "for msg in state[\"messages\"]:\n",
    "    print(f\"{type(msg).__name__}: {msg.content}\")"
   ]
  },
  {
   "cell_type": "code",
   "execution_count": 15,
   "metadata": {},
   "outputs": [],
   "source": [
    "\n",
    "def human_node(state: OrderState) -> OrderState:\n",
    "    \"\"\"Display the last model message to the user, and receive the user's input.\"\"\"\n",
    "    last_msg = state[\"messages\"][-1]\n",
    "    print(\"Model:\", last_msg.content)\n",
    "\n",
    "    user_input = input(\"User: \")\n",
    "\n",
    "    # If it looks like the user is trying to quit, flag the conversation\n",
    "    # as over.\n",
    "    if user_input in {\"q\", \"quit\", \"exit\", \"goodbye\"}:\n",
    "        state[\"finished\"] = True\n",
    "\n",
    "    return state | {\"messages\": [(\"user\", user_input)]}\n",
    "\n",
    "\n",
    "def chatbot_with_welcome_msg(state: OrderState) -> OrderState:\n",
    "    \"\"\"The chatbot itself. A wrapper around the model's own chat interface.\"\"\"\n",
    "\n",
    "    if state[\"messages\"]:\n",
    "        # If there are messages, continue the conversation with the Gemini model.\n",
    "        new_output = llm.invoke([TRIPADVISOR_SYSINT] + state[\"messages\"])\n",
    "    else:\n",
    "        # If there are no messages, start with the welcome message.\n",
    "        new_output = AIMessage(content=WELCOME_MSG)\n",
    "\n",
    "    return state | {\"messages\": [new_output]}\n",
    "\n",
    "\n",
    "# Start building a new graph.\n",
    "graph_builder = StateGraph(OrderState)\n",
    "\n",
    "# Add the chatbot and human nodes to the app graph.\n",
    "graph_builder.add_node(\"chatbot\", chatbot_with_welcome_msg)\n",
    "graph_builder.add_node(\"human\", human_node)\n",
    "\n",
    "# Start with the chatbot again.\n",
    "graph_builder.add_edge(START, \"chatbot\")\n",
    "\n",
    "# The chatbot will always go to the human next.\n",
    "graph_builder.add_edge(\"chatbot\", \"human\");"
   ]
  },
  {
   "cell_type": "code",
   "execution_count": 16,
   "metadata": {},
   "outputs": [],
   "source": [
    "def maybe_exit_human_node(state: OrderState) -> Literal[\"chatbot\", \"__end__\"]:\n",
    "    \"\"\"Route to the chatbot, unless it looks like the user is exiting.\"\"\"\n",
    "    if state.get(\"finished\", False):\n",
    "        return END\n",
    "    else:\n",
    "        return \"chatbot\"\n",
    "\n",
    "\n",
    "graph_builder.add_conditional_edges(\"human\", maybe_exit_human_node)\n",
    "\n",
    "chat_with_human_graph = graph_builder.compile()"
   ]
  },
  {
   "cell_type": "code",
   "execution_count": 17,
   "metadata": {},
   "outputs": [
    {
     "data": {
      "image/png": "[encoded data removed]",
      "text/plain": [
       "<IPython.core.display.Image object>"
      ]
     },
     "execution_count": 17,
     "metadata": {},
     "output_type": "execute_result"
    }
   ],
   "source": [
    "\n",
    "\n",
    "Image(chat_with_human_graph.get_graph().draw_mermaid_png())"
   ]
  },
  {
   "cell_type": "code",
   "execution_count": 18,
   "metadata": {},
   "outputs": [
    {
     "name": "stdout",
     "output_type": "stream",
     "text": [
      "Model: Welcome to the TripoBot. Type `q` to quit. What is your dream trip? how much is your budget? what activity do you like to do? Do you like blind trip program?\n",
      "Model: To give you the best advice, I need a little more information! Could you tell me:\n",
      "\n",
      "*   **Where are you departing from?** Knowing your origin will help determine flight costs.\n",
      "*   **What kind of trip are you looking for?** (e.g., beach vacation, city break, adventure trip, cultural exploration).\n",
      "*   **What is your approximate budget?** Even a rough idea helps narrow down the options.\n",
      "*   **When are you planning to travel?** Prices fluctuate depending on the time of year.\n",
      "\n",
      "Once I have this information, I can use my resources to find some affordable destinations for you!\n",
      "Model: Thanks for the information! A beach vacation with adventure activities from Tehran and a budget of $2000 opens up some interesting possibilities.\n",
      "\n",
      "To give you the most relevant recommendations, I need to know when you are planning to travel. Prices for flights and accommodations can vary significantly depending on the time of year. Also, how long do you plan to stay?\n",
      "\n",
      "In the meantime, I can suggest some options based on general affordability and adventure activities, assuming you're looking for a trip of about 7-10 days:\n",
      "\n",
      "**Option 1: Southern Coast of Turkey**\n",
      "\n",
      "*   **Why:** Turkey offers a good value for your money. The southern coast has beautiful beaches, historical sites, and opportunities for adventure.\n",
      "*   **Activities:** You could enjoy paragliding in Oludeniz, exploring ancient ruins like Ephesus, white water rafting in Köprülü Canyon, or scuba diving in Kaş.\n",
      "*   **Considerations:** Flights from Tehran to Antalya or Dalaman are usually reasonable. Accommodation and food costs are generally lower than in Europe.\n",
      "\n",
      "**Option 2: Sri Lanka**\n",
      "\n",
      "*   **Why:** Sri Lanka is known for its stunning beaches, lush landscapes, and cultural heritage. It's also relatively affordable.\n",
      "*   **Activities:** Surfing in Weligama, exploring ancient temples in Kandy, hiking in the tea plantations of Ella, or going on a wildlife safari in Yala National Park.\n",
      "*   **Considerations:** Flight prices from Tehran can vary. Accommodation and food are very budget-friendly.\n",
      "\n",
      "**Option 3: Georgia (Batumi)**\n",
      "\n",
      "*   **Why:** Batumi is a vibrant city on the Black Sea coast that offers a mix of beach relaxation and urban exploration. Georgia is known for its hospitality and delicious cuisine.\n",
      "*   **Activities:** Explore the Batumi Botanical Garden, relax on the beach, hike in the nearby mountains, or take a day trip to explore ancient monasteries.\n",
      "*   **Considerations:** Flights from Tehran to Batumi are generally affordable. The cost of living in Georgia is relatively low.\n",
      "\n",
      "Once you provide me with your travel dates, I can search for specific flight and accommodation options to see if these destinations fit your budget.\n",
      "\n",
      "Would you like me to investigate any of these options further, or do you have a specific time frame in mind for your trip?\n",
      "Model: That's a very important question! Visa requirements can definitely affect your travel plans.\n",
      "\n",
      "I do not have real-time access to up-to-the-minute visa regulations. However, I can provide you with general information and point you to the best resources for accurate details:\n",
      "\n",
      "**General Information:**\n",
      "\n",
      "*   Sri Lanka typically offers different types of visas, including tourist visas.\n",
      "*   Visa policies can change, so it's essential to get the most current information.\n",
      "\n",
      "**How to get the most accurate information:**\n",
      "\n",
      "1.  **Official Sri Lankan Immigration Website:** This is the most reliable source. Look for the official website of the Sri Lankan Department of Immigration and Emigration. They will have detailed information on visa requirements for Iranian citizens.\n",
      "2.  **Sri Lankan Embassy or Consulate in Tehran:** Contacting the embassy or consulate directly is always a good idea. They can provide specific instructions and answer any questions you may have.\n",
      "3.  **IATA Travel Centre:** The International Air Transport Association (IATA) provides a tool on their website where you can check visa, health, and customs requirements based on your nationality and destination.\n",
      "\n",
      "**Important things to check:**\n",
      "\n",
      "*   **Visa Type:** Determine the correct type of visa you need for tourism.\n",
      "*   **Application Process:** Understand the application process, required documents, and processing time.\n",
      "*   **Visa Fees:** Be aware of any associated fees.\n",
      "*   **Validity Period:** Check how long the visa is valid for.\n",
      "\n",
      "By checking these official sources, you'll get the most up-to-date and accurate information about Sri Lanka visa requirements for Iranian citizens.\n",
      "{'finished': True,\n",
      " 'messages': [AIMessage(content='Welcome to the TripoBot. Type `q` to quit. What is your dream trip? how much is your budget? what activity do you like to do? Do you like blind trip program?', additional_kwargs={}, response_metadata={}, id='508dfdcb-3bb1-4ace-a16c-24f0ee648a4c'),\n",
      "              HumanMessage(content='where is cheaper in these days?', additional_kwargs={}, response_metadata={}, id='ce56a327-f185-43d1-b4d7-9c8190425b76'),\n",
      "              AIMessage(content='To give you the best advice, I need a little more information! Could you tell me:\\n\\n*   **Where are you departing from?** Knowing your origin will help determine flight costs.\\n*   **What kind of trip are you looking for?** (e.g., beach vacation, city break, adventure trip, cultural exploration).\\n*   **What is your approximate budget?** Even a rough idea helps narrow down the options.\\n*   **When are you planning to travel?** Prices fluctuate depending on the time of year.\\n\\nOnce I have this information, I can use my resources to find some affordable destinations for you!', additional_kwargs={}, response_metadata={'prompt_feedback': {'block_reason': 0, 'safety_ratings': []}, 'finish_reason': 'STOP', 'model_name': 'gemini-2.0-flash', 'safety_ratings': []}, id='run-61e6e913-7bbd-49c2-a3a5-8cdc4c36e518-0', usage_metadata={'input_tokens': 496, 'output_tokens': 133, 'total_tokens': 629, 'input_token_details': {'cache_read': 0}}),\n",
      "              HumanMessage(content=\"I'm from tehran, I want beach vacation, approximate budget about 2000 dollars and  I love adventure trips\", additional_kwargs={}, response_metadata={}, id='d1a712d9-423f-44e1-ae1e-d0a8ab548226'),\n",
      "              AIMessage(content=\"Thanks for the information! A beach vacation with adventure activities from Tehran and a budget of $2000 opens up some interesting possibilities.\\n\\nTo give you the most relevant recommendations, I need to know when you are planning to travel. Prices for flights and accommodations can vary significantly depending on the time of year. Also, how long do you plan to stay?\\n\\nIn the meantime, I can suggest some options based on general affordability and adventure activities, assuming you're looking for a trip of about 7-10 days:\\n\\n**Option 1: Southern Coast of Turkey**\\n\\n*   **Why:** Turkey offers a good value for your money. The southern coast has beautiful beaches, historical sites, and opportunities for adventure.\\n*   **Activities:** You could enjoy paragliding in Oludeniz, exploring ancient ruins like Ephesus, white water rafting in Köprülü Canyon, or scuba diving in Kaş.\\n*   **Considerations:** Flights from Tehran to Antalya or Dalaman are usually reasonable. Accommodation and food costs are generally lower than in Europe.\\n\\n**Option 2: Sri Lanka**\\n\\n*   **Why:** Sri Lanka is known for its stunning beaches, lush landscapes, and cultural heritage. It's also relatively affordable.\\n*   **Activities:** Surfing in Weligama, exploring ancient temples in Kandy, hiking in the tea plantations of Ella, or going on a wildlife safari in Yala National Park.\\n*   **Considerations:** Flight prices from Tehran can vary. Accommodation and food are very budget-friendly.\\n\\n**Option 3: Georgia (Batumi)**\\n\\n*   **Why:** Batumi is a vibrant city on the Black Sea coast that offers a mix of beach relaxation and urban exploration. Georgia is known for its hospitality and delicious cuisine.\\n*   **Activities:** Explore the Batumi Botanical Garden, relax on the beach, hike in the nearby mountains, or take a day trip to explore ancient monasteries.\\n*   **Considerations:** Flights from Tehran to Batumi are generally affordable. The cost of living in Georgia is relatively low.\\n\\nOnce you provide me with your travel dates, I can search for specific flight and accommodation options to see if these destinations fit your budget.\\n\\nWould you like me to investigate any of these options further, or do you have a specific time frame in mind for your trip?\", additional_kwargs={}, response_metadata={'prompt_feedback': {'block_reason': 0, 'safety_ratings': []}, 'finish_reason': 'STOP', 'model_name': 'gemini-2.0-flash', 'safety_ratings': []}, id='run-d21eca5e-4486-477c-bcdc-c7173149ea4d-0', usage_metadata={'input_tokens': 655, 'output_tokens': 479, 'total_tokens': 1134, 'input_token_details': {'cache_read': 0}}),\n",
      "              HumanMessage(content='Is someone from Iran can easily get the Sri Lanka visa?', additional_kwargs={}, response_metadata={}, id='2e807559-6d52-484e-a48e-3faf26a57692'),\n",
      "              AIMessage(content=\"That's a very important question! Visa requirements can definitely affect your travel plans.\\n\\nI do not have real-time access to up-to-the-minute visa regulations. However, I can provide you with general information and point you to the best resources for accurate details:\\n\\n**General Information:**\\n\\n*   Sri Lanka typically offers different types of visas, including tourist visas.\\n*   Visa policies can change, so it's essential to get the most current information.\\n\\n**How to get the most accurate information:**\\n\\n1.  **Official Sri Lankan Immigration Website:** This is the most reliable source. Look for the official website of the Sri Lankan Department of Immigration and Emigration. They will have detailed information on visa requirements for Iranian citizens.\\n2.  **Sri Lankan Embassy or Consulate in Tehran:** Contacting the embassy or consulate directly is always a good idea. They can provide specific instructions and answer any questions you may have.\\n3.  **IATA Travel Centre:** The International Air Transport Association (IATA) provides a tool on their website where you can check visa, health, and customs requirements based on your nationality and destination.\\n\\n**Important things to check:**\\n\\n*   **Visa Type:** Determine the correct type of visa you need for tourism.\\n*   **Application Process:** Understand the application process, required documents, and processing time.\\n*   **Visa Fees:** Be aware of any associated fees.\\n*   **Validity Period:** Check how long the visa is valid for.\\n\\nBy checking these official sources, you'll get the most up-to-date and accurate information about Sri Lanka visa requirements for Iranian citizens.\", additional_kwargs={}, response_metadata={'prompt_feedback': {'block_reason': 0, 'safety_ratings': []}, 'finish_reason': 'STOP', 'model_name': 'gemini-2.0-flash', 'safety_ratings': []}, id='run-073c2b6a-99d4-439b-aa81-ebec30c7293b-0', usage_metadata={'input_tokens': 1145, 'output_tokens': 339, 'total_tokens': 1484, 'input_token_details': {'cache_read': 0}}),\n",
      "              HumanMessage(content='q', additional_kwargs={}, response_metadata={}, id='a2caf22d-9f89-4787-b48b-e5f1aa825060')]}\n"
     ]
    }
   ],
   "source": [
    "# The default recursion limit for traversing nodes is 25 - setting it higher means\n",
    "# you can try a more complex order with multiple steps and round-trips (and you\n",
    "# can chat for longer!)\n",
    "config = {\"recursion_limit\": 100}\n",
    "\n",
    "# Remember that this will loop forever, unless you input `q`, `quit` or one of the\n",
    "# other exit terms defined in `human_node`.\n",
    "# Uncomment this line to execute the graph:\n",
    "state = chat_with_human_graph.invoke({\"messages\": []}, config)\n",
    "\n",
    "# Things to try:\n",
    "#  - Just chat! There's no ordering or menu yet.\n",
    "#  - 'q' to exit.\n",
    "\n",
    "pprint(state)"
   ]
  },
  {
   "cell_type": "code",
   "execution_count": null,
   "metadata": {},
   "outputs": [],
   "source": [
    "https://github.com/langchain-ai/langgraph/blob/main/docs/docs/tutorials/multi_agent/agent_supervisor.ipynb"
   ]
  }
 ],
 "metadata": {
  "kernelspec": {
   "display_name": "llm",
   "language": "python",
   "name": "python3"
  },
  "language_info": {
   "codemirror_mode": {
    "name": "ipython",
    "version": 3
   },
   "file_extension": ".py",
   "mimetype": "text/x-python",
   "name": "python",
   "nbconvert_exporter": "python",
   "pygments_lexer": "ipython3",
   "version": "3.11.0"
  }
 },
 "nbformat": 4,
 "nbformat_minor": 2
}
